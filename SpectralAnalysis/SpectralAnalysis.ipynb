{
 "cells": [
  {
   "cell_type": "code",
   "execution_count": 4,
   "id": "52bbc4aa",
   "metadata": {},
   "outputs": [],
   "source": [
    "using Laplacians\n",
    "using LinearAlgebra\n",
    "using Statistics\n",
    "using Plots\n",
    "using SparseArrays\n",
    "using FileIO\n",
    "using JLD2\n",
    "using Random"
   ]
  },
  {
   "cell_type": "code",
   "execution_count": 2,
   "id": "030099bd",
   "metadata": {},
   "outputs": [
    {
     "name": "stdout",
     "output_type": "stream",
     "text": [
      "Hello World"
     ]
    }
   ],
   "source": [
    "print(\"Hello World\")"
   ]
  },
  {
   "cell_type": "code",
   "execution_count": null,
   "id": "0f342e59",
   "metadata": {},
   "outputs": [],
   "source": []
  }
 ],
 "metadata": {
  "kernelspec": {
   "display_name": "Julia 1.11.5",
   "language": "julia",
   "name": "julia-1.11"
  },
  "language_info": {
   "file_extension": ".jl",
   "mimetype": "application/julia",
   "name": "julia",
   "version": "1.11.5"
  }
 },
 "nbformat": 4,
 "nbformat_minor": 5
}
